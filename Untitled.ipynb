{
 "cells": [
  {
   "cell_type": "code",
   "execution_count": null,
   "id": "bc511ff5",
   "metadata": {},
   "outputs": [],
   "source": [
    "In [1]: import requests\n",
    "\n",
    "In [2]: url = 'https://assets.publishing.service.gov.uk/government/uploads/syste\n",
    "   ...: m/uploads/attachment_data/file/959864/COVID-19-transport-use-statistics.\n",
    "   ...: ods'\n",
    "\n",
    "In [3]: with open('COVID-19-transport-use-statistics.ods', 'wb') as out_file:\n",
    "   ...:     content = requests.get(url, stream=True).content\n",
    "   ...:     out_file.write(content)\n",
    "\n",
    "\n",
    "pip install pandas-ods-reader\n",
    "\n",
    "\n",
    "In [4]: from pandas_ods_reader import read_ods\n",
    "\n",
    "In [5]: df = read_ods('COVID-19-transport-use-statistics.ods', 1)\n",
    "\n",
    "In [6]: df\n",
    "Out[6]: \n",
    "                   Department for Transport statistics  ...   unnamed.9\n",
    "0    https://www.gov.uk/government/statistics/trans...  ...        None\n",
    "1                                                 None  ...        None\n",
    "2    Use of transport modes: Great Britain, since 1...  ...        None\n",
    "3    Figures are percentages of an equivalent day o...  ...        None\n",
    "4                                                 None  ...  Percentage\n",
    "..                                                 ...  ...         ...\n",
    "390                  Transport for London Tube and Bus  ...        None\n",
    "391                               Buses (excl. London)  ...        None\n",
    "392                                           Cycling   ...        None\n",
    "393                                  Any other queries  ...        None\n",
    "394                                    Media enquiries  ...        None\n",
    "\n",
    "\n"
   ]
  },
  {
   "cell_type": "code",
   "execution_count": 7,
   "id": "e78f5b0b",
   "metadata": {},
   "outputs": [],
   "source": [
    "import requests\n",
    "import pandas as pd"
   ]
  },
  {
   "cell_type": "code",
   "execution_count": 3,
   "id": "93fd6934",
   "metadata": {},
   "outputs": [],
   "source": [
    "url = 'https://dataverse.harvard.edu/dataset.xhtml?persistentId=doi:10.7910/DVN/HG7NV7'"
   ]
  },
  {
   "cell_type": "code",
   "execution_count": 5,
   "id": "ccf5eb9f",
   "metadata": {},
   "outputs": [],
   "source": [
    "with open('output.csv', 'wb') as output_file:\n",
    "    content = requests.get(url, stream=True).content\n",
    "    output_file.write(content)"
   ]
  },
  {
   "cell_type": "code",
   "execution_count": 12,
   "id": "8e1dccfe",
   "metadata": {},
   "outputs": [
    {
     "data": {
      "text/plain": [
       "'output.csv'"
      ]
     },
     "execution_count": 12,
     "metadata": {},
     "output_type": "execute_result"
    }
   ],
   "source": [
    "'output.csv'"
   ]
  },
  {
   "cell_type": "code",
   "execution_count": 9,
   "id": "50a78fc4",
   "metadata": {},
   "outputs": [
    {
     "data": {
      "text/html": [
       "<div>\n",
       "<style scoped>\n",
       "    .dataframe tbody tr th:only-of-type {\n",
       "        vertical-align: middle;\n",
       "    }\n",
       "\n",
       "    .dataframe tbody tr th {\n",
       "        vertical-align: top;\n",
       "    }\n",
       "\n",
       "    .dataframe thead th {\n",
       "        text-align: right;\n",
       "    }\n",
       "</style>\n",
       "<table border=\"1\" class=\"dataframe\">\n",
       "  <thead>\n",
       "    <tr style=\"text-align: right;\">\n",
       "      <th></th>\n",
       "      <th>&lt;?xml version='1.0' encoding='UTF-8' ?&gt;</th>\n",
       "    </tr>\n",
       "  </thead>\n",
       "  <tbody>\n",
       "    <tr>\n",
       "      <th>0</th>\n",
       "      <td>&lt;!DOCTYPE html&gt;</td>\n",
       "    </tr>\n",
       "    <tr>\n",
       "      <th>1</th>\n",
       "      <td>&lt;html xmlns=\"http://www.w3.org/1999/xhtml\" lan...</td>\n",
       "    </tr>\n",
       "    <tr>\n",
       "      <th>2</th>\n",
       "      <td>&lt;script async=\"async\" src=\"https://www.googlet...</td>\n",
       "    </tr>\n",
       "    <tr>\n",
       "      <th>3</th>\n",
       "      <td>&lt;script&gt;</td>\n",
       "    </tr>\n",
       "    <tr>\n",
       "      <th>4</th>\n",
       "      <td>//&lt;![CDATA[</td>\n",
       "    </tr>\n",
       "    <tr>\n",
       "      <th>...</th>\n",
       "      <td>...</td>\n",
       "    </tr>\n",
       "    <tr>\n",
       "      <th>1335</th>\n",
       "      <td>$(\"[id$='headerSupportLink']\")...</td>\n",
       "    </tr>\n",
       "    <tr>\n",
       "      <th>1336</th>\n",
       "      <td>}</td>\n",
       "    </tr>\n",
       "    <tr>\n",
       "      <th>1337</th>\n",
       "      <td>//]]&gt;</td>\n",
       "    </tr>\n",
       "    <tr>\n",
       "      <th>1338</th>\n",
       "      <td>&lt;/script&gt;&lt;script type=\"text/javascript...</td>\n",
       "    </tr>\n",
       "    <tr>\n",
       "      <th>1339</th>\n",
       "      <td>&lt;/html&gt;</td>\n",
       "    </tr>\n",
       "  </tbody>\n",
       "</table>\n",
       "<p>1340 rows × 1 columns</p>\n",
       "</div>"
      ],
      "text/plain": [
       "                <?xml version='1.0' encoding='UTF-8' ?>\n",
       "0                                       <!DOCTYPE html>\n",
       "1     <html xmlns=\"http://www.w3.org/1999/xhtml\" lan...\n",
       "2     <script async=\"async\" src=\"https://www.googlet...\n",
       "3                                              <script>\n",
       "4                                           //<![CDATA[\n",
       "...                                                 ...\n",
       "1335                  $(\"[id$='headerSupportLink']\")...\n",
       "1336                                                  }\n",
       "1337                                              //]]>\n",
       "1338          </script><script type=\"text/javascript...\n",
       "1339                                            </html>\n",
       "\n",
       "[1340 rows x 1 columns]"
      ]
     },
     "execution_count": 9,
     "metadata": {},
     "output_type": "execute_result"
    }
   ],
   "source": [
    "df = pd.read_csv('output.csv', on_bad_lines='skip')\n",
    "df"
   ]
  },
  {
   "cell_type": "code",
   "execution_count": null,
   "id": "2a549e8d",
   "metadata": {},
   "outputs": [],
   "source": []
  },
  {
   "cell_type": "code",
   "execution_count": null,
   "id": "ef825ddd",
   "metadata": {},
   "outputs": [],
   "source": []
  }
 ],
 "metadata": {
  "kernelspec": {
   "display_name": "Python 3 (ipykernel)",
   "language": "python",
   "name": "python3"
  },
  "language_info": {
   "codemirror_mode": {
    "name": "ipython",
    "version": 3
   },
   "file_extension": ".py",
   "mimetype": "text/x-python",
   "name": "python",
   "nbconvert_exporter": "python",
   "pygments_lexer": "ipython3",
   "version": "3.8.8"
  }
 },
 "nbformat": 4,
 "nbformat_minor": 5
}
